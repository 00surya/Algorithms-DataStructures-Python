{
 "cells": [
  {
   "cell_type": "markdown",
   "id": "interesting-tulsa",
   "metadata": {},
   "source": [
    "### Graphs are nothing but all about vertices and edges\n",
    "- Every node in a graph is called vertices and the connection bwn vertices is knows as edge.\n",
    "- There is no herarchy type structure in a graph anyone can connected to anything there is not relationship like child and parent as we see in trees."
   ]
  },
  {
   "cell_type": "markdown",
   "id": "independent-intervention",
   "metadata": {},
   "source": [
    "#### Implementation using **Adjenceny Matrix**"
   ]
  },
  {
   "cell_type": "code",
   "execution_count": 2,
   "id": "spatial-broadway",
   "metadata": {},
   "outputs": [
    {
     "name": "stdout",
     "output_type": "stream",
     "text": [
      "0\n",
      "1\n",
      "2\n",
      "3\n",
      "4\n"
     ]
    }
   ],
   "source": [
    "import queue\n",
    "class Graph:\n",
    "    def __init__(self,nVertices):\n",
    "        self.nVertices = nVertices\n",
    "        self.adjMatrix = [[0 for i in range(nVertices)] for j in range(nVertices)]\n",
    "        \n",
    "    def addEdge(self,v1,v2):\n",
    "        self.adjMatrix[v1][v2] = 1\n",
    "        self.adjMatrix[v2][v1] = 1    \n",
    "    \n",
    "    def __dfsHelper(self,sv,visited):\n",
    "        \n",
    "        print(sv)\n",
    "        visited[sv] = True\n",
    "        for i in range(self.nVertices):\n",
    "            if self.adjMatrix[sv][i] > 0 and visited[i] is False:\n",
    "                self.__dfsHelper(i,visited)\n",
    "        \n",
    "    def dfs(self):\n",
    "        visited = [False for i in range(self.nVertices)]\n",
    "        for i in range(self.nVertices): # it will help when the graph is disconnected\n",
    "            if visited[i] == False:\n",
    "                self.__dfsHelper(i,visited)\n",
    "            \n",
    "    def __bfsHelper(self,v,visited):\n",
    "        visited[v] = True\n",
    "        q = queue.Queue()\n",
    "        q.put(v)\n",
    "        while not q.empty():\n",
    "            v = q.get()\n",
    "            print(v)\n",
    "            for i in range(self.nVertices):\n",
    "                if self.adjMatrix[v][i] > 0 and not visited[i]:\n",
    "                    q.put(i)\n",
    "                    visited[i] = True\n",
    "    \n",
    "    def bfs(self):\n",
    "        visited = [False for i in range(self.nVertices)]\n",
    "        for v in range(self.nVertices):\n",
    "            if visited[v] is False:\n",
    "                self.__bfsHelper(v,visited)\n",
    "        \n",
    "        \n",
    "    def removeEdge(self,v1,v2):\n",
    "        if self.containsEdge(v1,v2) is False:\n",
    "            return\n",
    "        self.adjMatrix[v1][v2] = 0\n",
    "        self.adjMatrix[v2][v1] = 0\n",
    "        \n",
    "    def containsEdge(self,v1,v2):\n",
    "        return self.adjMatrix[v1][v2] > 0\n",
    "\n",
    "    def __str__(self): # overiding __str__ funtion which  generally get called whenever we call print funtion\n",
    "        return str(self.adjMatrix)\n",
    "    \n",
    "g = Graph(5)\n",
    "g.addEdge(0,1)\n",
    "g.addEdge(1,3)\n",
    "g.addEdge(2,4)\n",
    "g.addEdge(2,3)\n",
    "g.addEdge(0,2)\n",
    "g.bfs()\n",
    "# 0\n",
    "# 1\n",
    "# 2\n",
    "# 3\n",
    "# 4"
   ]
  },
  {
   "cell_type": "code",
   "execution_count": null,
   "id": "trained-hopkins",
   "metadata": {},
   "outputs": [],
   "source": []
  },
  {
   "cell_type": "code",
   "execution_count": null,
   "id": "beginning-firewall",
   "metadata": {},
   "outputs": [],
   "source": []
  }
 ],
 "metadata": {
  "kernelspec": {
   "display_name": "Python 3",
   "language": "python",
   "name": "python3"
  },
  "language_info": {
   "codemirror_mode": {
    "name": "ipython",
    "version": 3
   },
   "file_extension": ".py",
   "mimetype": "text/x-python",
   "name": "python",
   "nbconvert_exporter": "python",
   "pygments_lexer": "ipython3",
   "version": "3.9.2"
  }
 },
 "nbformat": 4,
 "nbformat_minor": 5
}
