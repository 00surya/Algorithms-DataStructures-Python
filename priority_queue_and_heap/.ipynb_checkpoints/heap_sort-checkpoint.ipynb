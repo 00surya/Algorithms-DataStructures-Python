{
 "cells": [
  {
   "cell_type": "markdown",
   "id": "tested-brooks",
   "metadata": {},
   "source": [
    "### **Heap Sort in O(nlogn) TC and O(1) Space Complexity**"
   ]
  },
  {
   "cell_type": "code",
   "execution_count": 31,
   "id": "interested-nebraska",
   "metadata": {},
   "outputs": [],
   "source": [
    "def down_heapify(arr, i, n):\n",
    "    parentIndex = i\n",
    "    leftChildIndex = 2*parentIndex + 1\n",
    "    rightChildIndex = 2*parentIndex + 2\n",
    "    while leftChildIndex < n:\n",
    "        minIndex = parentIndex\n",
    "        if arr[minIndex] > arr[leftChildIndex]:\n",
    "            minIndex = leftChildIndex\n",
    "        if rightChildIndex < n and arr[minIndex] > arr[rightChildIndex]:\n",
    "            minIndex = rightChildIndex\n",
    "        elif minIndex == parentIndex:\n",
    "            return\n",
    "        arr[minIndex], arr[parentIndex] = arr[parentIndex], arr[minIndex]\n",
    "        parentIndex = minIndex\n",
    "        leftChildIndex = 2*parentIndex+1\n",
    "        rightChildIndex = 2*parentIndex+2\n",
    "    return\n",
    "\n",
    "def up_heapify(arr,i):\n",
    "    curr_idx = i\n",
    "    parent_idx = (i-1)//2\n",
    "    while curr_idx > 0:\n",
    "        if arr[curr_idx]  < arr[parent_idx]:\n",
    "            arr[curr_idx], arr[parent_idx] = arr[parent_idx], arr[curr_idx]\n",
    "            curr_idx = parent_idx\n",
    "        else:\n",
    "            break\n",
    "            "
   ]
  },
  {
   "cell_type": "code",
   "execution_count": 32,
   "id": "unable-patch",
   "metadata": {},
   "outputs": [
    {
     "name": "stdout",
     "output_type": "stream",
     "text": [
      "10 -1 -2 -3 4 4 90 23 0 0 0\n",
      "-2 -3 -1 0 0 0 4 4 10 23 90 "
     ]
    }
   ],
   "source": [
    "def heapSort(arr):\n",
    "    n = len(arr)\n",
    "    for i in range(1,n):\n",
    "        up_heapify(arr,i)\n",
    "    for i in range(n-1,-1,-1):\n",
    "        arr[0], arr[i] = arr[i], arr[0]\n",
    "        down_heapify(arr, 0, i)\n",
    "        \n",
    "    return\n",
    "\n",
    "arr =[int(ele) for ele in input().split()]\n",
    "heapSort(arr)\n",
    "for ele in arr[::-1]:\n",
    "    print(ele,end=\" \")"
   ]
  },
  {
   "cell_type": "code",
   "execution_count": null,
   "id": "received-princess",
   "metadata": {},
   "outputs": [],
   "source": []
  },
  {
   "cell_type": "code",
   "execution_count": null,
   "id": "mighty-stomach",
   "metadata": {},
   "outputs": [],
   "source": []
  },
  {
   "cell_type": "markdown",
   "id": "adequate-radical",
   "metadata": {},
   "source": [
    "### **Heap Sort In O(n) Time Complexity and O(1) Space Complexity**"
   ]
  },
  {
   "cell_type": "code",
   "execution_count": 33,
   "id": "smooth-murray",
   "metadata": {},
   "outputs": [
    {
     "name": "stdout",
     "output_type": "stream",
     "text": [
      "10 -1 -2 -3 4 4 90 23 0 0 0\n",
      "-3 -2 -1 0 0 0 4 4 10 23 90 "
     ]
    }
   ],
   "source": [
    "def heapSort(arr):\n",
    "    # build the heap\n",
    "    n = len(arr)\n",
    "    for i in range(n//2-1, -1, -1):\n",
    "        down_heapify(arr,i,n)\n",
    "        \n",
    "#     remove n elemnts from and put them at correct position\n",
    "    for i in range(n-1, 0, -1):\n",
    "        arr[0], arr[i] = arr[i], arr[0]\n",
    "        down_heapify(arr,0,i)\n",
    "        \n",
    "        \n",
    "    return\n",
    "arr =[int(ele) for ele in input().split()]\n",
    "heapSort(arr)\n",
    "for ele in arr[::-1]:\n",
    "    print(ele,end=\" \")"
   ]
  },
  {
   "cell_type": "code",
   "execution_count": null,
   "id": "living-oriental",
   "metadata": {},
   "outputs": [],
   "source": []
  },
  {
   "cell_type": "code",
   "execution_count": null,
   "id": "thick-purchase",
   "metadata": {},
   "outputs": [],
   "source": []
  }
 ],
 "metadata": {
  "kernelspec": {
   "display_name": "Python 3",
   "language": "python",
   "name": "python3"
  },
  "language_info": {
   "codemirror_mode": {
    "name": "ipython",
    "version": 3
   },
   "file_extension": ".py",
   "mimetype": "text/x-python",
   "name": "python",
   "nbconvert_exporter": "python",
   "pygments_lexer": "ipython3",
   "version": "3.9.2"
  }
 },
 "nbformat": 4,
 "nbformat_minor": 5
}
