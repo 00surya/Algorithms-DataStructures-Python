{
 "cells": [
  {
   "cell_type": "markdown",
   "id": "cardiac-vision",
   "metadata": {},
   "source": [
    "### inbuilt min-heap"
   ]
  },
  {
   "cell_type": "code",
   "execution_count": 17,
   "id": "superior-group",
   "metadata": {},
   "outputs": [],
   "source": [
    "import heapq\n",
    "\n",
    "li = [5,4,8,7,9,11]\n",
    "heapq.heapify(li) # will build min heap"
   ]
  },
  {
   "cell_type": "code",
   "execution_count": 18,
   "id": "collect-engine",
   "metadata": {},
   "outputs": [
    {
     "name": "stdout",
     "output_type": "stream",
     "text": [
      "[2, 5, 4, 7, 9, 11, 8]\n"
     ]
    }
   ],
   "source": [
    "heapq.heappush(li,2)\n",
    "print(li)"
   ]
  },
  {
   "cell_type": "code",
   "execution_count": 19,
   "id": "valued-discount",
   "metadata": {},
   "outputs": [
    {
     "name": "stdout",
     "output_type": "stream",
     "text": [
      "2\n"
     ]
    }
   ],
   "source": [
    "print(heapq.heappop(li)) # remove the min element"
   ]
  },
  {
   "cell_type": "code",
   "execution_count": 20,
   "id": "modern-uncle",
   "metadata": {},
   "outputs": [
    {
     "name": "stdout",
     "output_type": "stream",
     "text": [
      "[4, 5, 8, 7, 9, 11]\n"
     ]
    }
   ],
   "source": [
    "print(li)"
   ]
  },
  {
   "cell_type": "code",
   "execution_count": 21,
   "id": "confirmed-boundary",
   "metadata": {},
   "outputs": [
    {
     "name": "stdout",
     "output_type": "stream",
     "text": [
      "[5, 6, 8, 7, 9, 11]\n"
     ]
    }
   ],
   "source": [
    "heapq.heapreplace(li,6) # will replace min elemnet with 6 in heap li\n",
    "print(li)"
   ]
  },
  {
   "cell_type": "code",
   "execution_count": null,
   "id": "urban-nirvana",
   "metadata": {},
   "outputs": [],
   "source": []
  },
  {
   "cell_type": "markdown",
   "id": "ongoing-valve",
   "metadata": {},
   "source": [
    "### inbuilt max-heap"
   ]
  },
  {
   "cell_type": "code",
   "execution_count": 29,
   "id": "essential-following",
   "metadata": {},
   "outputs": [
    {
     "name": "stdout",
     "output_type": "stream",
     "text": [
      "[87, 7, 4, 5, 6, 2, 1, 3]\n"
     ]
    }
   ],
   "source": [
    "li = [1,3,4,5,6,2,87,7]\n",
    "heapq._heapify_max(li)\n",
    "print(li)"
   ]
  },
  {
   "cell_type": "code",
   "execution_count": 30,
   "id": "patent-prisoner",
   "metadata": {},
   "outputs": [
    {
     "name": "stdout",
     "output_type": "stream",
     "text": [
      "87\n"
     ]
    }
   ],
   "source": [
    "print(heapq._heappop_max(li))"
   ]
  },
  {
   "cell_type": "code",
   "execution_count": 31,
   "id": "first-offer",
   "metadata": {},
   "outputs": [
    {
     "name": "stdout",
     "output_type": "stream",
     "text": [
      "[7, 6, 4, 5, 3, 2, 1]\n"
     ]
    }
   ],
   "source": [
    "print(li)"
   ]
  },
  {
   "cell_type": "code",
   "execution_count": 32,
   "id": "bacterial-granny",
   "metadata": {},
   "outputs": [
    {
     "name": "stdout",
     "output_type": "stream",
     "text": [
      "[6, 5, 4, -90, 3, 2, 1]\n"
     ]
    }
   ],
   "source": [
    "heapq._heapreplace_max(li,-90) # replace max with 0\n",
    "print(li) "
   ]
  },
  {
   "cell_type": "code",
   "execution_count": 28,
   "id": "falling-stevens",
   "metadata": {},
   "outputs": [
    {
     "name": "stdout",
     "output_type": "stream",
     "text": [
      "[60, 6, 4, 5, 3, 2, 1, 60, 0]\n"
     ]
    }
   ],
   "source": [
    "li.append(60)\n",
    "heapq._siftdown_max(li,0,len(li)-1) # upheapify till 0th position\n",
    "print(li)"
   ]
  },
  {
   "cell_type": "code",
   "execution_count": null,
   "id": "stone-ethernet",
   "metadata": {},
   "outputs": [],
   "source": []
  }
 ],
 "metadata": {
  "kernelspec": {
   "display_name": "Python 3",
   "language": "python",
   "name": "python3"
  },
  "language_info": {
   "codemirror_mode": {
    "name": "ipython",
    "version": 3
   },
   "file_extension": ".py",
   "mimetype": "text/x-python",
   "name": "python",
   "nbconvert_exporter": "python",
   "pygments_lexer": "ipython3",
   "version": "3.9.2"
  }
 },
 "nbformat": 4,
 "nbformat_minor": 5
}
