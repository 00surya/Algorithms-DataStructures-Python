{
 "cells": [
  {
   "cell_type": "markdown",
   "id": "understanding-child",
   "metadata": {},
   "source": [
    "## PriorityQueue"
   ]
  },
  {
   "cell_type": "code",
   "execution_count": 56,
   "id": "finished-language",
   "metadata": {},
   "outputs": [],
   "source": [
    "class PriorityQueueNode:\n",
    "    def __init__(self, value, priority):\n",
    "        self.value = value\n",
    "        self.priority = priority\n",
    "        \n",
    "class PriorityQueue:\n",
    "    def __init__(self):\n",
    "        self.pq = []\n",
    "    \n",
    "    def getSize(self):\n",
    "        return len(self.pq)\n",
    "    \n",
    "    def isEmpty(self):\n",
    "        return self.getSize() == 0\n",
    "    \n",
    "    def getMin(self):\n",
    "        if self.isEmpty():\n",
    "            return None\n",
    "        return self.pq[0].value\n",
    "    \n",
    "    def __percolateUp(self): # private funtion\n",
    "        childIndex = self.getSize() - 1\n",
    "        while childIndex > 0:\n",
    "            parentIndex = (childIndex-1)//2\n",
    "            if self.pq[childIndex].priority < self.pq[parentIndex].priority:\n",
    "                self.pq[childIndex],self.pq[parentIndex] = self.pq[parentIndex], self.pq[childIndex]\n",
    "                childIndex = parentIndex\n",
    "            else: # if the lement is on its correct position\n",
    "                break\n",
    "                \n",
    "                \n",
    "    def insert(self,value, priority):\n",
    "        pqnode = PriorityQueueNode(value, priority)\n",
    "        self.pq.append(pqnode)\n",
    "        self.__percolateUp()\n",
    "    \n",
    "    def __percolateDown(self):\n",
    "        parentIndex = 0\n",
    "        leftChildIndex = 2*parentIndex+1\n",
    "        rightChildIndex = 2*parentIndex+2\n",
    "        while leftChildIndex < self.getSize():\n",
    "            minIndex = parentIndex # to get minimum among parent,l-r childs\n",
    "            if self.pq[minIndex].priority  > self.pq[leftChildIndex].priority:\n",
    "                minIndex = leftChildIndex\n",
    "            if rightChildIndex < self.getSize() and self.pq[minIndex].priority > self.pq[rightChildIndex].priority:\n",
    "                minIndex = rightChildIndex\n",
    "            if minIndex == parentIndex:\n",
    "                break\n",
    "            self.pq[parentIndex], self.pq[minIndex] = self.pq[minIndex], self.pq[parentIndex]\n",
    "            parentIndex = minIndex\n",
    "            leftChildIndex = 2*parentIndex+1\n",
    "            rightChildIndex = 2*parentIndex+2\n",
    "            \n",
    "    def removeMin(self):\n",
    "        if self.isEmpty():\n",
    "            return None\n",
    "        \n",
    "        self.pq[0],self.pq[-1] = self.pq[-1], self.pq[0]\n",
    "        minNode = self.pq.pop()\n",
    "        self.__percolateDown()\n",
    "        return minNode.value"
   ]
  },
  {
   "cell_type": "code",
   "execution_count": 68,
   "id": "sexual-trade",
   "metadata": {},
   "outputs": [
    {
     "name": "stdout",
     "output_type": "stream",
     "text": [
      "D\n",
      "C\n",
      "A\n",
      "B\n"
     ]
    }
   ],
   "source": [
    "pq = PriorityQueue()\n",
    "pq.insert('A',10)\n",
    "pq.insert('C',5)\n",
    "pq.insert('B',19)\n",
    "pq.insert('D',4)\n",
    "for i in range(4):\n",
    "    print(pq.removeMin())"
   ]
  },
  {
   "cell_type": "code",
   "execution_count": 69,
   "id": "dynamic-found",
   "metadata": {},
   "outputs": [
    {
     "name": "stdout",
     "output_type": "stream",
     "text": [
      "None\n"
     ]
    }
   ],
   "source": [
    "print(pq.removeMin())"
   ]
  },
  {
   "cell_type": "code",
   "execution_count": 70,
   "id": "julian-local",
   "metadata": {},
   "outputs": [
    {
     "name": "stdout",
     "output_type": "stream",
     "text": [
      "U\n"
     ]
    }
   ],
   "source": [
    "pq.insert('A',10)\n",
    "pq.insert('B',3)\n",
    "pq.insert('U',1)\n",
    "print(pq.getMin())"
   ]
  },
  {
   "cell_type": "code",
   "execution_count": null,
   "id": "usual-event",
   "metadata": {},
   "outputs": [],
   "source": []
  },
  {
   "cell_type": "code",
   "execution_count": null,
   "id": "fleet-retail",
   "metadata": {},
   "outputs": [],
   "source": []
  }
 ],
 "metadata": {
  "kernelspec": {
   "display_name": "Python 3",
   "language": "python",
   "name": "python3"
  },
  "language_info": {
   "codemirror_mode": {
    "name": "ipython",
    "version": 3
   },
   "file_extension": ".py",
   "mimetype": "text/x-python",
   "name": "python",
   "nbconvert_exporter": "python",
   "pygments_lexer": "ipython3",
   "version": "3.9.2"
  }
 },
 "nbformat": 4,
 "nbformat_minor": 5
}
