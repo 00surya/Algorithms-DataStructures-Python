{
 "cells": [
  {
   "cell_type": "code",
   "execution_count": 1,
   "id": "living-contributor",
   "metadata": {},
   "outputs": [],
   "source": [
    "import time"
   ]
  },
  {
   "cell_type": "code",
   "execution_count": 2,
   "id": "expanded-advocate",
   "metadata": {},
   "outputs": [
    {
     "name": "stdout",
     "output_type": "stream",
     "text": [
      "1\n",
      "answer is 1\n",
      "time taken  0.0 seconds.\n"
     ]
    }
   ],
   "source": [
    "def fibb(n):\n",
    "    if n==0 or n==1:\n",
    "        return n\n",
    "    \n",
    "    ans1 = fibb(n-1)\n",
    "    ans2 = fibb(n-2)\n",
    "    \n",
    "    answer = ans1 + ans2\n",
    "    return answer\n",
    "\n",
    "n = int(input())\n",
    "str_t = time.time()\n",
    "ans = fibb(n)\n",
    "end_time = time.time() - str_t\n",
    "print(\"answer is\",ans) \n",
    "print(\"time taken \", end_time, \"seconds.\")"
   ]
  },
  {
   "cell_type": "markdown",
   "id": "inclusive-sudan",
   "metadata": {},
   "source": [
    "### Fibonacci using DP"
   ]
  },
  {
   "cell_type": "code",
   "execution_count": 28,
   "id": "thousand-stick",
   "metadata": {},
   "outputs": [
    {
     "name": "stdout",
     "output_type": "stream",
     "text": [
      "200\n",
      "answer is 280571172992510140037611932413038677189525\n",
      "time taken  0.0004987716674804688 seconds.\n",
      "280571172992510140037611932413038677189525\n"
     ]
    }
   ],
   "source": [
    "# recursive dynamic programing\n",
    "def fibb(n, dp):\n",
    "    if n==0 or n==1:\n",
    "        return n\n",
    "    \n",
    "    if dp[n-1] == -1:\n",
    "        ans1 = fibb(n-1,dp)\n",
    "        dp[n-1] = ans1\n",
    "    else:\n",
    "        ans1 = dp[n-1]\n",
    "        \n",
    "    if dp[n-2] == -1:\n",
    "        ans2 = fibb(n-2,dp)\n",
    "        dp[n-2] = ans2\n",
    "    else:\n",
    "        ans2 = dp[n-2]\n",
    "    \n",
    "    answer = ans1 + ans2\n",
    "    return answer\n",
    "\n",
    "n = int(input())\n",
    "str_t = time.time()\n",
    "\n",
    "dp = [-1 for i in range(n+1)]\n",
    "ans = fibb(n,dp)\n",
    "\n",
    "end_time = time.time() - str_t\n",
    "print(\"answer is\",ans) \n",
    "print(\"time taken \", end_time, \"seconds.\")\n",
    "print(ans) "
   ]
  },
  {
   "cell_type": "code",
   "execution_count": 29,
   "id": "nominated-envelope",
   "metadata": {},
   "outputs": [
    {
     "name": "stdout",
     "output_type": "stream",
     "text": [
      "200\n",
      "answer is 280571172992510140037611932413038677189525\n",
      "time taken  0.0009992122650146484 seconds.\n"
     ]
    }
   ],
   "source": [
    "\n",
    "def fibbI(n):\n",
    "    dp = [0 for i in range(n+1)]\n",
    "    dp[0] = 0\n",
    "    dp[1] = 1\n",
    "    i = 2\n",
    "    while i <= n:\n",
    "        dp[i] = dp[i-1] + dp[i-2]\n",
    "        i += 1\n",
    "    return dp[n]\n",
    "n = int(input())\n",
    "str_t = time.time()\n",
    "\n",
    "ans = fibbI(n)\n",
    "\n",
    "end_time = time.time() - str_t\n",
    "print(\"answer is\",ans) \n",
    "print(\"time taken \", end_time, \"seconds.\")\n",
    "# print(ans) "
   ]
  },
  {
   "cell_type": "code",
   "execution_count": 30,
   "id": "wrong-eligibility",
   "metadata": {},
   "outputs": [
    {
     "name": "stdout",
     "output_type": "stream",
     "text": [
      "200\n",
      "answer is 280571172992510140037611932413038677189525\n",
      "time taken  0.0 seconds.\n"
     ]
    }
   ],
   "source": [
    "def fibbI(n):\n",
    "    dp1 = 0\n",
    "    dp2 = 1\n",
    "    i = 2\n",
    "    while i <= n:\n",
    "        temp = dp2\n",
    "        dp2 = dp1+dp2\n",
    "        dp1 = temp\n",
    "        i += 1\n",
    "    return dp2\n",
    "\n",
    "n = int(input())\n",
    "str_t = time.time()\n",
    "\n",
    "ans = fibbI(n)\n",
    "\n",
    "end_time = time.time() - str_t\n",
    "print(\"answer is\",ans) \n",
    "print(\"time taken \", end_time, \"seconds.\")\n",
    "# print(ans) "
   ]
  },
  {
   "cell_type": "code",
   "execution_count": null,
   "id": "7f7a4b05",
   "metadata": {},
   "outputs": [],
   "source": []
  }
 ],
 "metadata": {
  "kernelspec": {
   "display_name": "Python 3 (ipykernel)",
   "language": "python",
   "name": "python3"
  },
  "language_info": {
   "codemirror_mode": {
    "name": "ipython",
    "version": 3
   },
   "file_extension": ".py",
   "mimetype": "text/x-python",
   "name": "python",
   "nbconvert_exporter": "python",
   "pygments_lexer": "ipython3",
   "version": "3.9.7"
  }
 },
 "nbformat": 4,
 "nbformat_minor": 5
}
