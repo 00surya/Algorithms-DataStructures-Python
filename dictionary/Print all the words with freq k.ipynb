{
 "cells": [
  {
   "cell_type": "code",
   "execution_count": 12,
   "id": "interpreted-parent",
   "metadata": {},
   "outputs": [],
   "source": [
    "s = \"this is a word string having many many word\"\n",
    "k = 2"
   ]
  },
  {
   "cell_type": "code",
   "execution_count": 13,
   "id": "regional-tsunami",
   "metadata": {},
   "outputs": [],
   "source": [
    "words = s.split()"
   ]
  },
  {
   "cell_type": "code",
   "execution_count": 14,
   "id": "specified-event",
   "metadata": {},
   "outputs": [],
   "source": [
    "words.sort() # if we dont know the dict we will do it like this but aas we no sorting is expensive dict can be helpful"
   ]
  },
  {
   "cell_type": "code",
   "execution_count": 15,
   "id": "limited-hartford",
   "metadata": {},
   "outputs": [
    {
     "data": {
      "text/plain": [
       "['a', 'having', 'is', 'many', 'many', 'string', 'this', 'word', 'word']"
      ]
     },
     "execution_count": 15,
     "metadata": {},
     "output_type": "execute_result"
    }
   ],
   "source": [
    "words"
   ]
  },
  {
   "cell_type": "code",
   "execution_count": 16,
   "id": "neural-portfolio",
   "metadata": {},
   "outputs": [
    {
     "data": {
      "text/plain": [
       "{'a': 1, 'having': 1, 'is': 1, 'many': 2, 'string': 1, 'this': 1, 'word': 2}"
      ]
     },
     "execution_count": 16,
     "metadata": {},
     "output_type": "execute_result"
    }
   ],
   "source": [
    "d = {}\n",
    "for w in words:\n",
    "    if w in d:\n",
    "        d[w] = d[w]+1\n",
    "    else:\n",
    "        d[w] = 1\n",
    "d"
   ]
  },
  {
   "cell_type": "code",
   "execution_count": 17,
   "id": "cognitive-adams",
   "metadata": {},
   "outputs": [
    {
     "data": {
      "text/plain": [
       "{'a': 1, 'having': 1, 'is': 1, 'many': 2, 'string': 1, 'this': 1, 'word': 2}"
      ]
     },
     "execution_count": 17,
     "metadata": {},
     "output_type": "execute_result"
    }
   ],
   "source": [
    "d = {}\n",
    "for w in words:\n",
    "    d[w] = d.get(w,0) + 1\n",
    "d"
   ]
  },
  {
   "cell_type": "code",
   "execution_count": 18,
   "id": "hungry-dancing",
   "metadata": {
    "scrolled": true
   },
   "outputs": [
    {
     "name": "stdout",
     "output_type": "stream",
     "text": [
      "many\n",
      "word\n"
     ]
    }
   ],
   "source": [
    "for w in d:\n",
    "    if d[w] == k:\n",
    "        print(w)"
   ]
  },
  {
   "cell_type": "code",
   "execution_count": 19,
   "id": "variable-vocabulary",
   "metadata": {},
   "outputs": [],
   "source": [
    "def printKFreqWords(s,k):\n",
    "    words = s.split()\n",
    "    d = {}\n",
    "    for w in words:\n",
    "        d[w] = d.get(w,0) + 1\n",
    "    for w in d:\n",
    "        if d[w] == k:\n",
    "            print(w)"
   ]
  },
  {
   "cell_type": "code",
   "execution_count": 27,
   "id": "entertaining-african",
   "metadata": {},
   "outputs": [
    {
     "name": "stdout",
     "output_type": "stream",
     "text": [
      "this\n",
      "is\n",
      "a\n",
      "string\n",
      "having\n"
     ]
    }
   ],
   "source": [
    "printKFreqWords(s,1)"
   ]
  },
  {
   "cell_type": "code",
   "execution_count": 60,
   "id": "czech-spanish",
   "metadata": {},
   "outputs": [],
   "source": [
    "a=[100,100,200,200]"
   ]
  },
  {
   "cell_type": "code",
   "execution_count": 61,
   "id": "present-surrey",
   "metadata": {},
   "outputs": [
    {
     "name": "stdout",
     "output_type": "stream",
     "text": [
      "{100: 2, 200: 2}\n",
      "{100: 2, 200: 2}\n"
     ]
    }
   ],
   "source": [
    "dp  = {}\n",
    "l={}\n",
    "for n in a:\n",
    "    dp[n] = dp.get(n,0) + 1\n",
    "    l[n] = l.get(n,0) + 1\n",
    "print(dp)\n",
    "print(l)"
   ]
  },
  {
   "cell_type": "code",
   "execution_count": null,
   "id": "grand-insertion",
   "metadata": {},
   "outputs": [],
   "source": []
  },
  {
   "cell_type": "code",
   "execution_count": null,
   "id": "accomplished-suffering",
   "metadata": {},
   "outputs": [],
   "source": []
  },
  {
   "cell_type": "code",
   "execution_count": null,
   "id": "hearing-worcester",
   "metadata": {},
   "outputs": [],
   "source": []
  }
 ],
 "metadata": {
  "kernelspec": {
   "display_name": "Python 3",
   "language": "python",
   "name": "python3"
  },
  "language_info": {
   "codemirror_mode": {
    "name": "ipython",
    "version": 3
   },
   "file_extension": ".py",
   "mimetype": "text/x-python",
   "name": "python",
   "nbconvert_exporter": "python",
   "pygments_lexer": "ipython3",
   "version": "3.9.2"
  }
 },
 "nbformat": 4,
 "nbformat_minor": 5
}
