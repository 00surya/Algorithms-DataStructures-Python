{
 "cells": [
  {
   "cell_type": "code",
   "execution_count": 1,
   "id": "chinese-temperature",
   "metadata": {},
   "outputs": [],
   "source": [
    "a = {\"the\":1,\"a\":5, 10000:\"abc\"}"
   ]
  },
  {
   "cell_type": "code",
   "execution_count": 2,
   "id": "changed-christian",
   "metadata": {},
   "outputs": [
    {
     "data": {
      "text/plain": [
       "dict"
      ]
     },
     "execution_count": 2,
     "metadata": {},
     "output_type": "execute_result"
    }
   ],
   "source": [
    "type(a)"
   ]
  },
  {
   "cell_type": "code",
   "execution_count": 3,
   "id": "tender-hepatitis",
   "metadata": {},
   "outputs": [
    {
     "name": "stdout",
     "output_type": "stream",
     "text": [
      "{'the': 1, 'a': 5, 10000: 'abc'}\n"
     ]
    }
   ],
   "source": [
    "print(a)"
   ]
  },
  {
   "cell_type": "code",
   "execution_count": 4,
   "id": "wooden-paraguay",
   "metadata": {},
   "outputs": [
    {
     "data": {
      "text/plain": [
       "3"
      ]
     },
     "execution_count": 4,
     "metadata": {},
     "output_type": "execute_result"
    }
   ],
   "source": [
    "len(a)"
   ]
  },
  {
   "cell_type": "code",
   "execution_count": 5,
   "id": "attended-injury",
   "metadata": {},
   "outputs": [],
   "source": [
    "b = a.copy()"
   ]
  },
  {
   "cell_type": "code",
   "execution_count": 6,
   "id": "illegal-insider",
   "metadata": {},
   "outputs": [
    {
     "data": {
      "text/plain": [
       "{'the': 1, 'a': 5, 10000: 'abc'}"
      ]
     },
     "execution_count": 6,
     "metadata": {},
     "output_type": "execute_result"
    }
   ],
   "source": [
    "b"
   ]
  },
  {
   "cell_type": "code",
   "execution_count": 9,
   "id": "square-identification",
   "metadata": {},
   "outputs": [],
   "source": [
    "c = dict([(\"the\",3),(\"a\",10),(2,3)]) # key value"
   ]
  },
  {
   "cell_type": "code",
   "execution_count": 10,
   "id": "human-austin",
   "metadata": {},
   "outputs": [
    {
     "data": {
      "text/plain": [
       "{'the': 3, 'a': 10, 2: 3}"
      ]
     },
     "execution_count": 10,
     "metadata": {},
     "output_type": "execute_result"
    }
   ],
   "source": [
    "c"
   ]
  },
  {
   "cell_type": "code",
   "execution_count": 15,
   "id": "devoted-covering",
   "metadata": {},
   "outputs": [],
   "source": [
    "d = dict.fromkeys([\"abc\",32,4], 10) # used to assign same value to all the keys"
   ]
  },
  {
   "cell_type": "code",
   "execution_count": 17,
   "id": "purple-lewis",
   "metadata": {},
   "outputs": [
    {
     "data": {
      "text/plain": [
       "{'abc': 10, 32: 10, 4: 10}"
      ]
     },
     "execution_count": 17,
     "metadata": {},
     "output_type": "execute_result"
    }
   ],
   "source": [
    "d"
   ]
  },
  {
   "cell_type": "markdown",
   "id": "existing-centre",
   "metadata": {},
   "source": [
    "#### Access/looping elements in dictionary"
   ]
  },
  {
   "cell_type": "code",
   "execution_count": 18,
   "id": "pointed-morrison",
   "metadata": {},
   "outputs": [],
   "source": [
    "a = {1:2, 3:4, \"list\":[1,23], \"dict\":{1:2}}"
   ]
  },
  {
   "cell_type": "code",
   "execution_count": 19,
   "id": "talented-recovery",
   "metadata": {},
   "outputs": [
    {
     "data": {
      "text/plain": [
       "{1: 2, 3: 4, 'list': [1, 23], 'dict': {1: 2}}"
      ]
     },
     "execution_count": 19,
     "metadata": {},
     "output_type": "execute_result"
    }
   ],
   "source": [
    "a"
   ]
  },
  {
   "cell_type": "code",
   "execution_count": 27,
   "id": "excess-uganda",
   "metadata": {},
   "outputs": [
    {
     "data": {
      "text/plain": [
       "[1, 23]"
      ]
     },
     "execution_count": 27,
     "metadata": {},
     "output_type": "execute_result"
    }
   ],
   "source": [
    "# data accessing\n",
    "a[\"list\"]"
   ]
  },
  {
   "cell_type": "code",
   "execution_count": 29,
   "id": "painful-victim",
   "metadata": {},
   "outputs": [
    {
     "data": {
      "text/plain": [
       "[1, 23]"
      ]
     },
     "execution_count": 29,
     "metadata": {},
     "output_type": "execute_result"
    }
   ],
   "source": [
    "a.get(\"list\")"
   ]
  },
  {
   "cell_type": "code",
   "execution_count": 35,
   "id": "instrumental-denial",
   "metadata": {},
   "outputs": [
    {
     "name": "stdout",
     "output_type": "stream",
     "text": [
      "None\n"
     ]
    }
   ],
   "source": [
    "print(a.get('li'))"
   ]
  },
  {
   "cell_type": "code",
   "execution_count": 37,
   "id": "alike-decade",
   "metadata": {},
   "outputs": [
    {
     "name": "stdout",
     "output_type": "stream",
     "text": [
      "0\n"
     ]
    }
   ],
   "source": [
    "print(a.get('li',0)) # it will  return the value assocoated with the key if key is present otherwise the second argument is returnd."
   ]
  },
  {
   "cell_type": "code",
   "execution_count": 38,
   "id": "recognized-laugh",
   "metadata": {},
   "outputs": [
    {
     "data": {
      "text/plain": [
       "dict_keys([1, 3, 'list', 'dict'])"
      ]
     },
     "execution_count": 38,
     "metadata": {},
     "output_type": "execute_result"
    }
   ],
   "source": [
    "a.keys()"
   ]
  },
  {
   "cell_type": "code",
   "execution_count": 39,
   "id": "historic-headline",
   "metadata": {},
   "outputs": [
    {
     "data": {
      "text/plain": [
       "dict_values([2, 4, [1, 23], {1: 2}])"
      ]
     },
     "execution_count": 39,
     "metadata": {},
     "output_type": "execute_result"
    }
   ],
   "source": [
    "a.values()"
   ]
  },
  {
   "cell_type": "code",
   "execution_count": 40,
   "id": "racial-partnership",
   "metadata": {},
   "outputs": [
    {
     "data": {
      "text/plain": [
       "dict_items([(1, 2), (3, 4), ('list', [1, 23]), ('dict', {1: 2})])"
      ]
     },
     "execution_count": 40,
     "metadata": {},
     "output_type": "execute_result"
    }
   ],
   "source": [
    "a.items()"
   ]
  },
  {
   "cell_type": "code",
   "execution_count": 43,
   "id": "likely-velvet",
   "metadata": {},
   "outputs": [
    {
     "name": "stdout",
     "output_type": "stream",
     "text": [
      "1 : 2\n",
      "3 : 4\n",
      "list : [1, 23]\n",
      "dict : {1: 2}\n"
     ]
    }
   ],
   "source": [
    "for  i in a:\n",
    "    print(i,\":\",a[i])"
   ]
  },
  {
   "cell_type": "code",
   "execution_count": 44,
   "id": "ancient-blade",
   "metadata": {},
   "outputs": [
    {
     "name": "stdout",
     "output_type": "stream",
     "text": [
      "2\n",
      "4\n",
      "[1, 23]\n",
      "{1: 2}\n"
     ]
    }
   ],
   "source": [
    "for i in a.values():\n",
    "    print(i)"
   ]
  },
  {
   "cell_type": "code",
   "execution_count": 47,
   "id": "inclusive-summary",
   "metadata": {},
   "outputs": [
    {
     "data": {
      "text/plain": [
       "(True, False, False)"
      ]
     },
     "execution_count": 47,
     "metadata": {},
     "output_type": "execute_result"
    }
   ],
   "source": [
    "# check if the key exists\n",
    "\"list\" in a, \"No\" in a, 2 in a"
   ]
  },
  {
   "cell_type": "markdown",
   "id": "intense-simple",
   "metadata": {},
   "source": [
    "#### Adding/ Updating/ Deletion in dict"
   ]
  },
  {
   "cell_type": "code",
   "execution_count": 48,
   "id": "informed-anderson",
   "metadata": {},
   "outputs": [],
   "source": [
    "a['touple'] = (1,2,3)"
   ]
  },
  {
   "cell_type": "code",
   "execution_count": 49,
   "id": "based-charge",
   "metadata": {},
   "outputs": [
    {
     "data": {
      "text/plain": [
       "{1: 2, 3: 4, 'list': [1, 23], 'dict': {1: 2}, 'touple': (1, 2, 3)}"
      ]
     },
     "execution_count": 49,
     "metadata": {},
     "output_type": "execute_result"
    }
   ],
   "source": [
    "a"
   ]
  },
  {
   "cell_type": "code",
   "execution_count": 50,
   "id": "valid-georgia",
   "metadata": {},
   "outputs": [],
   "source": [
    "a[1] = 10 #updation"
   ]
  },
  {
   "cell_type": "code",
   "execution_count": 51,
   "id": "finished-liberia",
   "metadata": {},
   "outputs": [
    {
     "data": {
      "text/plain": [
       "{1: 10, 3: 4, 'list': [1, 23], 'dict': {1: 2}, 'touple': (1, 2, 3)}"
      ]
     },
     "execution_count": 51,
     "metadata": {},
     "output_type": "execute_result"
    }
   ],
   "source": [
    "a"
   ]
  },
  {
   "cell_type": "code",
   "execution_count": 52,
   "id": "wired-period",
   "metadata": {},
   "outputs": [],
   "source": [
    "b = {3:5, \"the\":4, 2:100}"
   ]
  },
  {
   "cell_type": "code",
   "execution_count": 53,
   "id": "undefined-healing",
   "metadata": {},
   "outputs": [],
   "source": [
    "a.update(b) # it will update a to have all the keys from b as well somthing is common will update as per b"
   ]
  },
  {
   "cell_type": "code",
   "execution_count": 54,
   "id": "accepting-arlington",
   "metadata": {},
   "outputs": [
    {
     "data": {
      "text/plain": [
       "{1: 10,\n",
       " 3: 5,\n",
       " 'list': [1, 23],\n",
       " 'dict': {1: 2},\n",
       " 'touple': (1, 2, 3),\n",
       " 'the': 4,\n",
       " 2: 100}"
      ]
     },
     "execution_count": 54,
     "metadata": {},
     "output_type": "execute_result"
    }
   ],
   "source": [
    "a"
   ]
  },
  {
   "cell_type": "code",
   "execution_count": null,
   "id": "veterinary-summer",
   "metadata": {},
   "outputs": [],
   "source": []
  },
  {
   "cell_type": "code",
   "execution_count": 55,
   "id": "improving-politics",
   "metadata": {},
   "outputs": [],
   "source": [
    "# remove data"
   ]
  },
  {
   "cell_type": "code",
   "execution_count": 57,
   "id": "reported-store",
   "metadata": {},
   "outputs": [
    {
     "data": {
      "text/plain": [
       "(1, 2, 3)"
      ]
     },
     "execution_count": 57,
     "metadata": {},
     "output_type": "execute_result"
    }
   ],
   "source": [
    "# a.pop(key)\n",
    "a.pop(\"touple\")"
   ]
  },
  {
   "cell_type": "code",
   "execution_count": 58,
   "id": "musical-issue",
   "metadata": {},
   "outputs": [
    {
     "ename": "KeyError",
     "evalue": "'touple'",
     "output_type": "error",
     "traceback": [
      "\u001b[1;31m---------------------------------------------------------------------------\u001b[0m",
      "\u001b[1;31mKeyError\u001b[0m                                  Traceback (most recent call last)",
      "\u001b[1;32m<ipython-input-58-e6569e208350>\u001b[0m in \u001b[0;36m<module>\u001b[1;34m\u001b[0m\n\u001b[1;32m----> 1\u001b[1;33m \u001b[0ma\u001b[0m\u001b[1;33m.\u001b[0m\u001b[0mpop\u001b[0m\u001b[1;33m(\u001b[0m\u001b[1;34m\"touple\"\u001b[0m\u001b[1;33m)\u001b[0m\u001b[1;33m\u001b[0m\u001b[1;33m\u001b[0m\u001b[0m\n\u001b[0m",
      "\u001b[1;31mKeyError\u001b[0m: 'touple'"
     ]
    }
   ],
   "source": [
    "a.pop(\"touple\")"
   ]
  },
  {
   "cell_type": "code",
   "execution_count": 59,
   "id": "productive-remedy",
   "metadata": {},
   "outputs": [
    {
     "data": {
      "text/plain": [
       "{1: 10, 3: 5, 'list': [1, 23], 'dict': {1: 2}, 'the': 4, 2: 100}"
      ]
     },
     "execution_count": 59,
     "metadata": {},
     "output_type": "execute_result"
    }
   ],
   "source": [
    "a"
   ]
  },
  {
   "cell_type": "code",
   "execution_count": 60,
   "id": "excessive-charter",
   "metadata": {},
   "outputs": [],
   "source": [
    "del a[1]"
   ]
  },
  {
   "cell_type": "code",
   "execution_count": 61,
   "id": "comparable-dakota",
   "metadata": {},
   "outputs": [
    {
     "data": {
      "text/plain": [
       "{3: 5, 'list': [1, 23], 'dict': {1: 2}, 'the': 4, 2: 100}"
      ]
     },
     "execution_count": 61,
     "metadata": {},
     "output_type": "execute_result"
    }
   ],
   "source": [
    "a"
   ]
  },
  {
   "cell_type": "code",
   "execution_count": 67,
   "id": "awful-gothic",
   "metadata": {},
   "outputs": [],
   "source": [
    "a.clear() # will delete all the key value from dict except dict itself"
   ]
  },
  {
   "cell_type": "code",
   "execution_count": 68,
   "id": "loved-exhibit",
   "metadata": {},
   "outputs": [
    {
     "data": {
      "text/plain": [
       "{}"
      ]
     },
     "execution_count": 68,
     "metadata": {},
     "output_type": "execute_result"
    }
   ],
   "source": [
    "a"
   ]
  },
  {
   "cell_type": "code",
   "execution_count": 69,
   "id": "tracked-moscow",
   "metadata": {},
   "outputs": [],
   "source": [
    "del a # it will delete the dictionary itself"
   ]
  },
  {
   "cell_type": "code",
   "execution_count": 70,
   "id": "executed-intent",
   "metadata": {},
   "outputs": [
    {
     "ename": "NameError",
     "evalue": "name 'a' is not defined",
     "output_type": "error",
     "traceback": [
      "\u001b[1;31m---------------------------------------------------------------------------\u001b[0m",
      "\u001b[1;31mNameError\u001b[0m                                 Traceback (most recent call last)",
      "\u001b[1;32m<ipython-input-70-3f786850e387>\u001b[0m in \u001b[0;36m<module>\u001b[1;34m\u001b[0m\n\u001b[1;32m----> 1\u001b[1;33m \u001b[0ma\u001b[0m\u001b[1;33m\u001b[0m\u001b[1;33m\u001b[0m\u001b[0m\n\u001b[0m",
      "\u001b[1;31mNameError\u001b[0m: name 'a' is not defined"
     ]
    }
   ],
   "source": [
    "a"
   ]
  },
  {
   "cell_type": "code",
   "execution_count": null,
   "id": "removed-punishment",
   "metadata": {},
   "outputs": [],
   "source": []
  }
 ],
 "metadata": {
  "kernelspec": {
   "display_name": "Python 3",
   "language": "python",
   "name": "python3"
  },
  "language_info": {
   "codemirror_mode": {
    "name": "ipython",
    "version": 3
   },
   "file_extension": ".py",
   "mimetype": "text/x-python",
   "name": "python",
   "nbconvert_exporter": "python",
   "pygments_lexer": "ipython3",
   "version": "3.9.2"
  }
 },
 "nbformat": 4,
 "nbformat_minor": 5
}
