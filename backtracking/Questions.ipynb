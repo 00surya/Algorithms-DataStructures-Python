{
 "cells": [
  {
   "cell_type": "markdown",
   "id": "systematic-estonia",
   "metadata": {},
   "source": [
    "### Q1- Rat in a Maze"
   ]
  },
  {
   "cell_type": "code",
   "execution_count": 13,
   "id": "aware-harbor",
   "metadata": {},
   "outputs": [
    {
     "name": "stdout",
     "output_type": "stream",
     "text": [
      "4\n",
      "1 1 1 1\n",
      "1 0 1 1\n",
      "1 1 0 1\n",
      "1 0 0 1\n",
      "[[1, 1, 1, 0], [0, 0, 1, 1], [0, 0, 0, 1], [0, 0, 0, 1]]\n",
      "[[1, 1, 1, 1], [0, 0, 0, 1], [0, 0, 0, 1], [0, 0, 0, 1]]\n"
     ]
    }
   ],
   "source": [
    "def printPathHelper(x,y,maze,n,solution):\n",
    "    if x == n-1 and y == n-1:\n",
    "        solution[x][y] = 1\n",
    "        print(solution)\n",
    "        return solution\n",
    "    if x < 0 or y < 0 or x>=n or y>=n or maze[x][y] == 0 or solution[x][y] == 1:\n",
    "        return \n",
    "    \n",
    "    solution[x][y] = 1\n",
    "    printPathHelper(x+1,y,maze,n,solution)\n",
    "    printPathHelper(x,y+1,maze,n,solution)\n",
    "    printPathHelper(x-1,y,maze,n,solution)\n",
    "    printPathHelper(x,y-1,maze,n,solution)\n",
    "    solution[x][y] = 0 # best part  we will make the solution mat as it was all 0s to print all the possible paths\n",
    "    \n",
    "    return \n",
    "def printPath(maze):\n",
    "    n = len(maze)\n",
    "    solution = [[0 for j in range(n)] for i in range(n)]\n",
    "    printPathHelper(0,0,maze,n,solution)\n",
    "\n",
    "n = int(input())\n",
    "maze = []\n",
    "for i in range(n):\n",
    "    row = list(map(int,input().split()))\n",
    "    maze.append(row)\n",
    "printPath(maze)"
   ]
  },
  {
   "cell_type": "markdown",
   "id": "following-translator",
   "metadata": {},
   "source": [
    "### Q2- N-Queen"
   ]
  },
  {
   "cell_type": "code",
   "execution_count": 2,
   "id": "basic-spanish",
   "metadata": {},
   "outputs": [],
   "source": [
    "def isSafe(row,col,board,n):\n",
    "    # check upper blocks of mat\n",
    "    i = row - 1\n",
    "    while i >= 0:\n",
    "        if board[i][col] == 1:\n",
    "            return False\n",
    "        i-=1\n",
    "    # checking diagonaly leftwards\n",
    "    i = row - 1\n",
    "    j = col - 1\n",
    "    while i >= 0 and j >= 0:\n",
    "        if board[i][j] == 1:\n",
    "            return False\n",
    "        i-=1\n",
    "        j-=1\n",
    "    # check diagonally rightwards\n",
    "    i = row - 1\n",
    "    j = col + 1\n",
    "    while i >= 0 and j<n:\n",
    "        if board[i][j] == 1:\n",
    "            return False\n",
    "        i-=1\n",
    "        j+=1\n",
    "    return True\n",
    "\n",
    "def printPathHelper(row,n,board):\n",
    "    if row == n:\n",
    "        for i in range(n):\n",
    "            for j in range(n):\n",
    "                print(board[i][j], end =\" \")\n",
    "        print()\n",
    "        return\n",
    "    # we are at present row which is row or 0 now cz we need to check in each column we need to be make \n",
    "    # that we check every column\n",
    "    for col in range(n):\n",
    "        if isSafe(row, col, board, n):\n",
    "            board[row][col] = 1\n",
    "            printPathHelper(row+1,n,board)\n",
    "            # as we back track we make board as it was before placing queens which is nxn 0s mat\n",
    "            board[row][col] = 0"
   ]
  },
  {
   "cell_type": "code",
   "execution_count": 4,
   "id": "exciting-monaco",
   "metadata": {},
   "outputs": [
    {
     "name": "stdout",
     "output_type": "stream",
     "text": [
      "4\n",
      "0 1 0 0 0 0 0 1 1 0 0 0 0 0 1 0 \n",
      "0 0 1 0 1 0 0 0 0 0 0 1 0 1 0 0 \n"
     ]
    }
   ],
   "source": [
    "def printPaths(n):\n",
    "    board = [[0 for i in range(n)] for j in range(n)]\n",
    "    printPathHelper(0,n,board)\n",
    "n = int(input())\n",
    "printPaths(n)"
   ]
  },
  {
   "cell_type": "markdown",
   "id": "successful-chart",
   "metadata": {},
   "source": [
    "### Q-3 Sudoku Solver"
   ]
  },
  {
   "cell_type": "code",
   "execution_count": null,
   "id": "inclusive-surface",
   "metadata": {},
   "outputs": [],
   "source": []
  },
  {
   "cell_type": "code",
   "execution_count": null,
   "id": "original-metadata",
   "metadata": {},
   "outputs": [],
   "source": []
  },
  {
   "cell_type": "code",
   "execution_count": 167,
   "id": "smaller-external",
   "metadata": {},
   "outputs": [
    {
     "name": "stdout",
     "output_type": "stream",
     "text": [
      "3 1 6 5 7 8 4 9 2 \n",
      "5 2 9 1 3 4 7 6 8 \n",
      "4 8 7 6 2 9 5 3 1 \n",
      "2 6 3 4 1 5 9 8 7 \n",
      "9 7 4 8 6 3 1 2 5 \n",
      "8 5 1 7 9 2 6 4 3 \n",
      "1 3 8 9 4 7 2 5 6 \n",
      "6 9 2 3 5 1 8 7 4 \n",
      "7 4 5 2 8 6 3 1 9 \n"
     ]
    }
   ],
   "source": [
    "# N is the size of the 2D matrix N*N\n",
    "N = 9\n",
    "\n",
    "# A utility function to print grid\n",
    "def printing(arr):\n",
    "\tfor i in range(N):\n",
    "\t\tfor j in range(N):\n",
    "\t\t\tprint(arr[i][j], end = \" \")\n",
    "\t\tprint()\n",
    "\n",
    "# Checks whether it will be\n",
    "# legal to assign num to the\n",
    "# given row, col\n",
    "def isSafe(grid, row, col, num):\n",
    "\n",
    "\t# Check if we find the same num\n",
    "\t# in the similar row , we\n",
    "\t# return false\n",
    "\tfor x in range(9):\n",
    "\t\tif grid[row][x] == num:\n",
    "\t\t\treturn False\n",
    "\n",
    "\t# Check if we find the same num in\n",
    "\t# the similar column , we\n",
    "\t# return false\n",
    "\tfor x in range(9):\n",
    "\t\tif grid[x][col] == num:\n",
    "\t\t\treturn False\n",
    "\n",
    "\t# Check if we find the same num in\n",
    "\t# the particular 3*3 matrix,\n",
    "\t# we return false\n",
    "\tstartRow = row - row % 3\n",
    "\tstartCol = col - col % 3\n",
    "\tfor i in range(3):\n",
    "\t\tfor j in range(3):\n",
    "\t\t\tif grid[i + startRow][j + startCol] == num:\n",
    "\t\t\t\treturn False\n",
    "\treturn True\n",
    "\n",
    "# Takes a partially filled-in grid and attempts\n",
    "# to assign values to all unassigned locations in\n",
    "# such a way to meet the requirements for\n",
    "# Sudoku solution (non-duplication across rows,\n",
    "# columns, and boxes) */\n",
    "def solveSudoku(grid, row, col):\n",
    "\n",
    "\t# Check if we have reached the 8th\n",
    "\t# row and 9th column (0\n",
    "\t# indexed matrix) , we are\n",
    "\t# returning true to avoid\n",
    "\t# further backtracking\n",
    "\tif (row == N - 1 and col == N):\n",
    "\t\treturn True\n",
    "\t\n",
    "\t# Check if column value becomes 9 ,\n",
    "\t# we move to next row and\n",
    "\t# column start from 0\n",
    "\tif col == N:\n",
    "\t\trow += 1\n",
    "\t\tcol = 0\n",
    "\n",
    "\t# Check if the current position of\n",
    "\t# the grid already contains\n",
    "\t# value >0, we iterate for next column\n",
    "\tif grid[row][col] > 0:\n",
    "\t\treturn solveSudoku(grid, row, col + 1)\n",
    "\tfor num in range(1, N + 1, 1):\n",
    "\t\n",
    "\t\t# Check if it is safe to place\n",
    "\t\t# the num (1-9) in the\n",
    "\t\t# given row ,col ->we\n",
    "\t\t# move to next column\n",
    "\t\tif isSafe(grid, row, col, num):\n",
    "\t\t\n",
    "\t\t\t# Assigning the num in\n",
    "\t\t\t# the current (row,col)\n",
    "\t\t\t# position of the grid\n",
    "\t\t\t# and assuming our assigned\n",
    "\t\t\t# num in the position\n",
    "\t\t\t# is correct\n",
    "\t\t\tgrid[row][col] = num\n",
    "\n",
    "\t\t\t# Checking for next possibility with next\n",
    "\t\t\t# column\n",
    "\t\t\tif solveSudoku(grid, row, col + 1):\n",
    "\t\t\t\treturn True\n",
    "\n",
    "\t\t# Removing the assigned num ,\n",
    "\t\t# since our assumption\n",
    "\t\t# was wrong , and we go for\n",
    "\t\t# next assumption with\n",
    "\t\t# diff num value\n",
    "\t\tgrid[row][col] = 0\n",
    "\treturn False\n",
    "\n",
    "# Driver Code\n",
    "\n",
    "# 0 means unassigned cells\n",
    "grid = [[3, 0, 6, 5, 0, 8, 4, 0, 0],\n",
    "\t\t[5, 2, 0, 0, 0, 0, 0, 0, 0],\n",
    "\t\t[0, 8, 7, 0, 0, 0, 0, 3, 1],\n",
    "\t\t[0, 0, 3, 0, 1, 0, 0, 8, 0],\n",
    "\t\t[9, 0, 0, 8, 6, 3, 0, 0, 5],\n",
    "\t\t[0, 5, 0, 0, 9, 0, 6, 0, 0],\n",
    "\t\t[1, 3, 0, 0, 0, 0, 2, 5, 0],\n",
    "\t\t[0, 0, 0, 0, 0, 0, 0, 7, 4],\n",
    "\t\t[0, 0, 5, 2, 0, 6, 3, 0, 0]]\n",
    "\n",
    "if (solveSudoku(grid, 0, 0)):\n",
    "\tprinting(grid)\n",
    "else:\n",
    "\tprint(\"no solution exists \")\n",
    "\n",
    "\t# This code is contributed by sudhanshgupta2019a\n"
   ]
  },
  {
   "cell_type": "code",
   "execution_count": 166,
   "id": "employed-control",
   "metadata": {},
   "outputs": [
    {
     "name": "stdout",
     "output_type": "stream",
     "text": [
      "9 4 1 3 2 6 7 5 8 \n",
      "6 3 7 1 5 8 2 4 9 \n",
      "8 2 5 4 9 7 6 1 3 \n",
      "2 6 8 7 1 4 3 9 5 \n",
      "1 7 4 5 3 9 8 6 2 \n",
      "3 5 9 6 8 2 4 7 1 \n",
      "4 1 3 2 6 5 9 8 7 \n",
      "5 9 6 8 7 3 1 2 4 \n",
      "7 8 2 9 4 1 5 3 6 \n"
     ]
    }
   ],
   "source": [
    "# board = [[ int(ele) for ele in input().split() ]for i in range(9)]\n",
    "grid = [\n",
    "         [9, 0, 0, 0, 2, 0, 7, 5, 0],\n",
    "         [6, 0, 0, 0, 5, 0, 0, 4, 0], \n",
    "         [0, 2, 0, 4, 0, 0, 0, 1, 0],\n",
    "         [2, 0, 8, 0, 0, 0, 0, 0, 0], \n",
    "         [0, 7, 0, 5, 0, 9, 0, 6, 0], \n",
    "         [0, 0, 0 ,0 ,0 ,0, 4, 0, 1], \n",
    "         [0, 1, 0, 0, 0, 5, 0, 8, 0], \n",
    "         [0, 9, 0, 0, 7, 0, 0, 0, 4], \n",
    "         [0, 8, 2, 0, 4, 0, 0, 0, 6],\n",
    "        ]\n",
    "if (solveSudoku(grid, 0, 0)):\n",
    "    printing(grid)\n",
    "else:\n",
    "    print(\"no solution exists \")"
   ]
  },
  {
   "cell_type": "code",
   "execution_count": 170,
   "id": "dynamic-relay",
   "metadata": {},
   "outputs": [
    {
     "data": {
      "text/plain": [
       "(0, 0)"
      ]
     },
     "execution_count": 170,
     "metadata": {},
     "output_type": "execute_result"
    }
   ],
   "source": [
    "2-2%3 , 2-2%3"
   ]
  },
  {
   "cell_type": "code",
   "execution_count": 173,
   "id": "spare-south",
   "metadata": {},
   "outputs": [],
   "source": [
    "row = 1\n",
    "col = 4"
   ]
  },
  {
   "cell_type": "code",
   "execution_count": 177,
   "id": "boxed-anchor",
   "metadata": {},
   "outputs": [
    {
     "data": {
      "text/plain": [
       "(0, 3)"
      ]
     },
     "execution_count": 177,
     "metadata": {},
     "output_type": "execute_result"
    }
   ],
   "source": [
    "r - r % 3, c- c % 3"
   ]
  },
  {
   "cell_type": "markdown",
   "id": "musical-firmware",
   "metadata": {},
   "source": [
    "### Permutations "
   ]
  },
  {
   "cell_type": "code",
   "execution_count": 56,
   "id": "attached-consultation",
   "metadata": {},
   "outputs": [],
   "source": [
    "def perm(s,idx,n):\n",
    "    if idx == n-1:\n",
    "        print(''.join(s))\n",
    "        return \n",
    "    for i in range(idx,n):\n",
    "        st = list(map(str,s))\n",
    "        st[i],st[idx] = st[idx],st[i]\n",
    "        perm(st,idx+1,n)\n",
    "\n",
    "    return"
   ]
  },
  {
   "cell_type": "code",
   "execution_count": 62,
   "id": "encouraging-oakland",
   "metadata": {},
   "outputs": [],
   "source": [
    "def perm(s,idx,n):\n",
    "    if idx == n-1:\n",
    "        return  [''.join(s)]\n",
    "    temp = []\n",
    "    for i in range(idx,n):\n",
    "        st = list(map(str,s))\n",
    "        st[i],st[idx] = st[idx],st[i]\n",
    "        res = perm(st,idx+1,n)\n",
    "        for i in res:\n",
    "            temp.append(i)\n",
    "    return temp"
   ]
  },
  {
   "cell_type": "code",
   "execution_count": 63,
   "id": "white-trial",
   "metadata": {},
   "outputs": [
    {
     "data": {
      "text/plain": [
       "['abc', 'acb', 'bac', 'bca', 'cba', 'cab']"
      ]
     },
     "execution_count": 63,
     "metadata": {},
     "output_type": "execute_result"
    }
   ],
   "source": [
    "s = 'abc'\n",
    "n = len(s)\n",
    "perm(s,0,n)"
   ]
  },
  {
   "cell_type": "code",
   "execution_count": null,
   "id": "simple-shoot",
   "metadata": {},
   "outputs": [],
   "source": []
  }
 ],
 "metadata": {
  "kernelspec": {
   "display_name": "Python 3",
   "language": "python",
   "name": "python3"
  },
  "language_info": {
   "codemirror_mode": {
    "name": "ipython",
    "version": 3
   },
   "file_extension": ".py",
   "mimetype": "text/x-python",
   "name": "python",
   "nbconvert_exporter": "python",
   "pygments_lexer": "ipython3",
   "version": "3.9.2"
  }
 },
 "nbformat": 4,
 "nbformat_minor": 5
}
